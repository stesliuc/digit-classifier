{
 "cells": [
  {
   "cell_type": "code",
   "execution_count": 1,
   "metadata": {},
   "outputs": [],
   "source": [
    "import argparse\n",
    "import numpy as np\n",
    "import pandas as pd\n",
    "import os\n",
    "import src.nn_utils as nn\n",
    "import src.pred_utils as pred"
   ]
  },
  {
   "cell_type": "code",
   "execution_count": 2,
   "metadata": {},
   "outputs": [],
   "source": [
    "data_folder = \"data/\"\n"
   ]
  },
  {
   "cell_type": "code",
   "execution_count": 3,
   "metadata": {},
   "outputs": [],
   "source": [
    "data = pd.read_csv(os.path.join(f\"../{data_folder}\", \"train.csv\"))"
   ]
  },
  {
   "cell_type": "code",
   "execution_count": 4,
   "metadata": {},
   "outputs": [],
   "source": [
    "# Prepare test and train data\n",
    "data = np.array(data)\n",
    "m, n = data.shape\n",
    "np.random.shuffle(data)  # shuffle before splitting into dev and training sets\n",
    "\n",
    "data_test = data[0:1000].T\n",
    "Y_test = data_test[0]\n",
    "X_test = data_test[1:n]\n",
    "X_test = X_test / 255\n",
    "\n",
    "data_train = data[1000:m].T\n",
    "Y_train = data_train[0]\n",
    "X_train = data_train[1:n]\n",
    "X_train = X_train / 255\n",
    "\n",
    "_, m_train = X_train.shape"
   ]
  },
  {
   "cell_type": "code",
   "execution_count": 5,
   "metadata": {},
   "outputs": [
    {
     "data": {
      "text/plain": [
       "(784, 41000)"
      ]
     },
     "execution_count": 5,
     "metadata": {},
     "output_type": "execute_result"
    }
   ],
   "source": [
    "X_train.shape"
   ]
  },
  {
   "cell_type": "code",
   "execution_count": 6,
   "metadata": {},
   "outputs": [
    {
     "name": "stdout",
     "output_type": "stream",
     "text": [
      "Iteration:  0\n",
      "[3 8 5 ... 7 7 7] [0 3 1 ... 0 9 5]\n",
      "0.08485365853658537\n",
      "Iteration:  10\n",
      "[3 4 9 ... 7 7 7] [0 3 1 ... 0 9 5]\n",
      "0.21992682926829268\n",
      "Iteration:  20\n",
      "[0 4 9 ... 7 7 7] [0 3 1 ... 0 9 5]\n",
      "0.2919512195121951\n",
      "Iteration:  30\n",
      "[0 8 9 ... 7 7 7] [0 3 1 ... 0 9 5]\n",
      "0.35\n",
      "Iteration:  40\n",
      "[0 8 9 ... 5 7 7] [0 3 1 ... 0 9 5]\n",
      "0.4228780487804878\n",
      "Iteration:  50\n",
      "[0 8 9 ... 5 7 7] [0 3 1 ... 0 9 5]\n",
      "0.5007560975609756\n",
      "Iteration:  60\n",
      "[0 3 1 ... 5 7 7] [0 3 1 ... 0 9 5]\n",
      "0.562439024390244\n",
      "Iteration:  70\n",
      "[0 3 1 ... 5 7 7] [0 3 1 ... 0 9 5]\n",
      "0.6038292682926829\n",
      "Iteration:  80\n",
      "[0 3 1 ... 5 7 7] [0 3 1 ... 0 9 5]\n",
      "0.6351463414634146\n",
      "Iteration:  90\n",
      "[0 3 1 ... 5 7 7] [0 3 1 ... 0 9 5]\n",
      "0.6613658536585366\n",
      "Iteration:  100\n",
      "[0 3 1 ... 5 7 7] [0 3 1 ... 0 9 5]\n",
      "0.6830731707317074\n",
      "Iteration:  110\n",
      "[0 3 1 ... 5 7 7] [0 3 1 ... 0 9 5]\n",
      "0.7017073170731707\n",
      "Iteration:  120\n",
      "[0 3 1 ... 5 7 7] [0 3 1 ... 0 9 5]\n",
      "0.7172682926829268\n",
      "Iteration:  130\n",
      "[0 3 1 ... 5 9 7] [0 3 1 ... 0 9 5]\n",
      "0.7294634146341463\n",
      "Iteration:  140\n",
      "[0 3 1 ... 5 9 7] [0 3 1 ... 0 9 5]\n",
      "0.7413170731707317\n",
      "Iteration:  150\n",
      "[0 3 1 ... 5 9 7] [0 3 1 ... 0 9 5]\n",
      "0.7517560975609756\n",
      "Iteration:  160\n",
      "[0 3 1 ... 5 9 7] [0 3 1 ... 0 9 5]\n",
      "0.7607804878048781\n",
      "Iteration:  170\n",
      "[0 3 1 ... 5 9 7] [0 3 1 ... 0 9 5]\n",
      "0.7694878048780488\n",
      "Iteration:  180\n",
      "[0 3 1 ... 5 9 7] [0 3 1 ... 0 9 5]\n",
      "0.7766341463414634\n",
      "Iteration:  190\n",
      "[0 3 1 ... 5 9 7] [0 3 1 ... 0 9 5]\n",
      "0.7826585365853659\n",
      "Iteration:  200\n",
      "[0 3 1 ... 5 9 7] [0 3 1 ... 0 9 5]\n",
      "0.788219512195122\n",
      "Iteration:  210\n",
      "[0 3 1 ... 5 9 7] [0 3 1 ... 0 9 5]\n",
      "0.7935609756097561\n",
      "Iteration:  220\n",
      "[0 3 1 ... 5 9 7] [0 3 1 ... 0 9 5]\n",
      "0.7979268292682927\n",
      "Iteration:  230\n",
      "[0 3 1 ... 5 9 7] [0 3 1 ... 0 9 5]\n",
      "0.8024146341463415\n",
      "Iteration:  240\n",
      "[0 3 1 ... 5 9 7] [0 3 1 ... 0 9 5]\n",
      "0.8074146341463415\n",
      "Iteration:  250\n",
      "[0 3 1 ... 5 9 7] [0 3 1 ... 0 9 5]\n",
      "0.8106585365853659\n",
      "Iteration:  260\n",
      "[0 3 1 ... 5 9 7] [0 3 1 ... 0 9 5]\n",
      "0.8143414634146341\n",
      "Iteration:  270\n",
      "[0 3 1 ... 5 9 7] [0 3 1 ... 0 9 5]\n",
      "0.817560975609756\n",
      "Iteration:  280\n",
      "[0 3 1 ... 5 9 7] [0 3 1 ... 0 9 5]\n",
      "0.8196097560975609\n",
      "Iteration:  290\n",
      "[0 3 1 ... 5 9 7] [0 3 1 ... 0 9 5]\n",
      "0.8226829268292682\n",
      "Iteration:  300\n",
      "[0 3 1 ... 5 9 7] [0 3 1 ... 0 9 5]\n",
      "0.8248048780487804\n",
      "Iteration:  310\n",
      "[0 3 1 ... 5 9 7] [0 3 1 ... 0 9 5]\n",
      "0.8267560975609756\n",
      "Iteration:  320\n",
      "[0 3 1 ... 5 9 7] [0 3 1 ... 0 9 5]\n",
      "0.8288536585365853\n",
      "Iteration:  330\n",
      "[0 3 1 ... 5 9 7] [0 3 1 ... 0 9 5]\n",
      "0.8309268292682926\n",
      "Iteration:  340\n",
      "[0 3 1 ... 5 9 7] [0 3 1 ... 0 9 5]\n",
      "0.8325609756097561\n",
      "Iteration:  350\n",
      "[0 3 1 ... 5 9 7] [0 3 1 ... 0 9 5]\n",
      "0.8343170731707317\n",
      "Iteration:  360\n",
      "[0 3 1 ... 5 9 5] [0 3 1 ... 0 9 5]\n",
      "0.8363658536585366\n",
      "Iteration:  370\n",
      "[0 3 1 ... 5 9 5] [0 3 1 ... 0 9 5]\n",
      "0.8376585365853658\n",
      "Iteration:  380\n",
      "[0 3 1 ... 5 9 5] [0 3 1 ... 0 9 5]\n",
      "0.8391219512195122\n",
      "Iteration:  390\n",
      "[0 3 1 ... 5 9 5] [0 3 1 ... 0 9 5]\n",
      "0.8406585365853658\n",
      "Iteration:  400\n",
      "[0 3 1 ... 5 9 5] [0 3 1 ... 0 9 5]\n",
      "0.8423414634146341\n",
      "Iteration:  410\n",
      "[0 3 1 ... 5 9 5] [0 3 1 ... 0 9 5]\n",
      "0.8445609756097561\n",
      "Iteration:  420\n",
      "[0 3 1 ... 5 9 5] [0 3 1 ... 0 9 5]\n",
      "0.8462439024390244\n",
      "Iteration:  430\n",
      "[0 3 1 ... 5 9 5] [0 3 1 ... 0 9 5]\n",
      "0.8477317073170731\n",
      "Iteration:  440\n",
      "[0 3 1 ... 5 9 5] [0 3 1 ... 0 9 5]\n",
      "0.849\n",
      "Iteration:  450\n",
      "[0 3 1 ... 5 9 5] [0 3 1 ... 0 9 5]\n",
      "0.8500731707317073\n",
      "Iteration:  460\n",
      "[0 3 1 ... 5 9 5] [0 3 1 ... 0 9 5]\n",
      "0.851170731707317\n",
      "Iteration:  470\n",
      "[0 3 1 ... 5 9 5] [0 3 1 ... 0 9 5]\n",
      "0.852390243902439\n",
      "Iteration:  480\n",
      "[0 3 1 ... 5 9 5] [0 3 1 ... 0 9 5]\n",
      "0.8534390243902439\n",
      "Iteration:  490\n",
      "[0 3 1 ... 5 9 5] [0 3 1 ... 0 9 5]\n",
      "0.8546829268292683\n"
     ]
    }
   ],
   "source": [
    "W1, b1, W2, b2 = nn.gradient_descent(X_train, Y_train, m, 0.10, 500)"
   ]
  },
  {
   "cell_type": "code",
   "execution_count": 7,
   "metadata": {},
   "outputs": [],
   "source": [
    "test_preds = pred.make_predictions(X_test, W1, b1, W2, b2)"
   ]
  },
  {
   "cell_type": "code",
   "execution_count": 8,
   "metadata": {},
   "outputs": [
    {
     "name": "stdout",
     "output_type": "stream",
     "text": [
      "[7 2 8 1 4 0 5 0 0 7 6 0 6 8 9 9 7 1 3 5 8 6 1 1 0 3 2 1 5 5 4 2 3 8 1 0 1\n",
      " 8 8 1 2 6 3 1 6 0 1 4 6 3 7 5 5 3 4 1 9 9 5 4 9 8 9 0 6 6 2 9 4 6 1 6 5 8\n",
      " 4 2 2 2 2 8 6 2 4 6 1 0 9 3 7 9 1 1 7 4 1 2 1 8 4 1 6 9 3 1 4 7 7 4 7 6 9\n",
      " 6 4 6 3 0 7 5 5 1 1 9 0 8 0 1 2 8 4 9 3 5 9 2 9 0 1 4 6 7 9 5 8 5 8 0 0 2\n",
      " 8 3 1 6 9 2 3 9 9 4 0 4 8 3 1 1 0 7 6 0 6 8 2 8 7 9 9 7 7 7 6 6 7 7 6 3 9\n",
      " 3 4 1 7 6 9 9 5 1 3 2 1 7 2 2 9 0 5 7 7 0 6 3 1 3 4 1 9 4 3 3 2 5 1 8 5 9\n",
      " 4 3 0 9 1 8 1 0 9 9 2 9 9 7 7 2 1 5 0 6 6 4 3 2 0 3 4 4 6 2 7 7 4 1 0 2 7\n",
      " 0 2 0 4 4 1 8 1 2 6 6 8 2 6 3 9 1 5 2 7 4 1 6 4 8 8 7 7 0 1 6 9 7 7 1 0 6\n",
      " 6 5 1 7 6 8 9 8 0 1 7 1 5 2 7 6 9 2 6 3 2 5 6 1 2 2 8 5 8 7 8 8 9 2 9 8 5\n",
      " 7 6 1 2 5 8 3 6 5 9 5 6 5 1 8 1 8 3 8 8 0 3 4 2 5 0 9 2 9 6 4 1 1 3 0 3 1\n",
      " 1 7 2 5 5 9 1 9 7 5 8 1 6 3 8 6 5 1 3 5 4 1 9 2 7 3 5 8 3 1 8 5 0 1 6 2 8\n",
      " 9 7 4 3 0 7 4 3 5 2 9 7 0 9 2 9 6 8 8 1 7 9 2 9 0 2 7 5 1 6 8 8 6 3 9 1 1\n",
      " 1 6 0 5 4 1 9 0 7 3 5 6 1 7 5 9 8 6 7 1 1 9 9 4 8 7 0 1 8 6 0 4 7 1 5 6 0\n",
      " 3 0 0 2 1 8 3 8 4 7 9 0 1 7 8 2 0 0 8 1 3 1 0 9 6 5 4 7 9 7 8 2 8 3 2 0 1\n",
      " 2 1 0 3 4 4 9 6 0 1 3 9 2 2 4 4 6 1 2 1 2 8 3 8 8 5 3 1 6 6 5 7 6 0 3 7 3\n",
      " 2 1 8 2 2 0 6 2 9 8 9 6 9 8 6 1 7 4 7 2 1 7 2 2 4 2 0 3 7 0 8 0 0 7 6 4 9\n",
      " 3 1 8 1 4 3 9 6 3 1 4 1 2 4 6 9 1 6 4 4 4 7 2 4 4 6 1 3 3 2 6 3 9 4 4 3 6\n",
      " 4 4 4 5 8 7 3 9 4 8 8 8 8 9 7 3 4 9 8 6 3 6 7 1 5 9 1 3 9 3 2 4 5 8 7 1 4\n",
      " 5 1 6 4 6 1 1 5 9 2 1 1 2 5 0 7 0 4 3 6 7 5 3 9 5 7 8 1 6 3 6 6 0 2 0 1 1\n",
      " 9 8 2 4 2 3 4 6 0 1 1 9 1 4 7 9 2 9 7 8 6 8 3 2 3 5 4 9 9 8 2 7 1 5 8 7 3\n",
      " 1 4 2 4 6 2 0 1 1 2 8 1 9 0 7 3 3 3 9 4 1 8 5 3 4 9 5 7 8 3 7 8 9 9 0 7 0\n",
      " 4 4 8 1 6 8 7 5 8 1 1 1 7 7 9 2 1 8 9 0 0 4 7 7 9 4 6 5 5 7 0 6 6 2 9 4 0\n",
      " 8 8 6 9 1 5 1 2 4 1 1 5 2 5 0 3 7 5 3 1 1 8 3 4 7 9 8 3 5 1 1 1 1 0 8 1 6\n",
      " 0 9 8 9 7 2 0 3 4 4 7 1 4 6 0 3 3 2 7 6 7 4 4 6 1 5 3 6 9 8 6 8 9 6 8 2 5\n",
      " 3 0 2 7 4 5 0 6 1 9 0 6 6 5 8 8 1 4 3 5 3 3 7 0 1 8 3 5 8 1 6 6 4 5 7 7 6\n",
      " 4 1 1 3 3 5 3 8 4 7 6 7 1 5 3 0 6 6 1 9 2 3 1 9 6 8 0 9 1 9 8 0 2 9 5 0 2\n",
      " 7 4 0 5 7 3 2 7 3 4 7 7 2 2 4 3 9 7 7 1 1 1 1 7 5 4 6 2 6 4 9 8 1 6 7 8 3\n",
      " 6] [7 2 8 1 4 0 5 0 6 7 6 0 4 8 9 9 7 1 3 5 1 6 1 1 0 3 2 1 5 3 4 2 3 7 1 0 1\n",
      " 2 8 1 2 6 3 1 6 0 1 4 6 2 7 5 5 3 4 1 9 7 7 4 9 8 4 0 6 6 8 9 4 6 1 6 5 7\n",
      " 4 2 2 2 2 3 5 2 4 6 1 0 7 3 7 9 1 1 7 6 1 2 1 8 4 1 6 9 3 1 2 7 7 4 7 6 9\n",
      " 6 4 6 3 0 7 5 5 1 1 9 0 3 5 1 2 8 4 9 3 5 9 2 9 0 1 4 6 7 9 5 8 3 8 7 0 2\n",
      " 8 3 8 6 9 7 3 9 4 4 0 4 8 3 1 7 0 7 6 3 5 8 2 8 7 9 9 7 7 8 6 6 7 2 6 7 9\n",
      " 3 4 1 7 2 9 9 5 1 3 2 1 5 2 2 9 0 5 7 7 0 6 3 1 3 4 1 9 4 3 3 2 5 1 8 5 9\n",
      " 4 3 0 9 1 2 1 9 9 9 2 9 4 7 7 8 1 5 0 6 8 4 5 2 3 8 4 9 6 8 7 7 4 1 0 2 7\n",
      " 0 2 0 4 4 1 9 1 2 6 6 8 2 6 8 9 1 3 2 7 4 1 6 4 6 8 7 7 0 1 6 9 7 7 1 0 6\n",
      " 6 5 1 7 6 8 3 8 0 1 7 1 5 2 7 6 9 2 6 2 2 3 6 1 2 2 8 5 8 7 3 3 9 2 9 8 5\n",
      " 7 6 1 6 5 8 3 3 5 9 5 6 5 1 3 1 8 3 0 8 0 3 4 2 5 0 5 2 9 6 4 1 1 3 0 3 1\n",
      " 1 3 2 5 5 9 1 9 7 5 8 1 6 2 5 6 5 1 3 5 4 1 9 6 7 3 5 2 8 1 8 5 0 1 6 2 3\n",
      " 9 7 9 8 0 7 4 2 5 2 9 7 0 9 2 9 6 8 0 1 7 4 2 9 0 2 7 5 1 6 3 6 6 3 9 1 1\n",
      " 1 6 0 5 4 1 9 2 7 5 5 6 1 7 5 9 8 6 7 1 1 9 9 4 8 7 0 1 8 6 0 4 7 1 6 5 0\n",
      " 3 0 0 2 1 8 3 8 4 7 9 0 1 7 8 2 0 0 8 1 3 2 0 9 6 5 4 7 9 7 8 2 5 3 2 0 2\n",
      " 2 1 0 8 4 4 9 6 0 1 3 4 2 2 4 4 6 1 2 1 2 8 3 2 5 5 3 1 4 6 5 9 6 0 3 7 2\n",
      " 2 1 3 6 2 0 6 2 9 8 9 6 9 8 6 1 7 4 7 2 1 5 2 2 4 2 0 3 7 0 5 0 0 7 6 4 9\n",
      " 8 1 8 1 4 8 9 6 3 1 4 1 2 4 6 9 1 6 4 4 4 7 8 4 4 6 1 8 3 2 6 8 9 4 4 3 6\n",
      " 4 4 4 5 8 7 3 9 4 5 8 8 3 9 5 3 3 9 8 6 3 6 7 1 5 9 1 3 9 3 2 4 8 3 7 1 6\n",
      " 5 2 6 4 6 1 1 5 9 2 5 1 6 5 0 7 0 4 3 6 7 5 3 9 5 7 8 8 2 8 6 6 0 2 0 5 1\n",
      " 9 8 2 4 2 0 4 6 0 1 1 9 1 4 7 9 2 9 7 8 6 8 3 2 3 5 4 9 9 8 2 7 1 5 8 7 3\n",
      " 1 4 8 4 6 8 0 1 1 2 2 1 9 0 9 5 5 0 9 4 1 8 5 3 4 9 5 7 8 3 7 8 9 9 0 7 0\n",
      " 4 8 8 1 6 8 7 3 8 7 8 1 7 7 9 2 1 8 9 0 0 4 9 7 8 4 6 5 5 8 0 6 6 2 8 4 0\n",
      " 9 8 6 9 1 5 1 2 4 1 1 3 2 3 0 3 7 5 8 1 1 8 3 4 7 7 8 3 5 1 1 1 1 0 3 1 6\n",
      " 0 9 8 9 7 2 0 3 2 4 7 1 4 6 0 2 3 2 7 6 7 4 8 6 3 5 3 6 9 8 6 8 7 6 8 2 5\n",
      " 8 0 2 7 9 8 0 6 5 9 0 6 6 5 8 8 1 4 3 5 3 3 7 0 1 8 3 8 8 1 6 6 6 5 7 7 6\n",
      " 4 5 1 1 3 5 3 8 4 7 6 7 1 3 3 5 6 6 1 9 2 3 1 9 6 8 0 9 1 4 6 0 2 9 5 0 2\n",
      " 7 4 0 5 7 3 2 7 3 4 7 7 2 2 4 3 9 7 8 1 1 1 1 9 5 4 6 2 6 4 9 5 1 5 7 8 3\n",
      " 6]\n"
     ]
    },
    {
     "data": {
      "text/plain": [
       "0.85"
      ]
     },
     "execution_count": 8,
     "metadata": {},
     "output_type": "execute_result"
    }
   ],
   "source": [
    "nn.get_accuracy(test_preds, Y_test)"
   ]
  },
  {
   "cell_type": "code",
   "execution_count": 9,
   "metadata": {},
   "outputs": [
    {
     "name": "stdout",
     "output_type": "stream",
     "text": [
      "Prediction:  [7]\n",
      "Label:  7\n"
     ]
    },
    {
     "data": {
      "image/png": "[encoded data removed]",
      "text/plain": [
       "<Figure size 640x480 with 1 Axes>"
      ]
     },
     "metadata": {},
     "output_type": "display_data"
    }
   ],
   "source": [
    "pred.test_prediction(0, X_test, Y_test, W1, b1, W2, b2)"
   ]
  },
  {
   "cell_type": "code",
   "execution_count": null,
   "metadata": {},
   "outputs": [],
   "source": []
  }
 ],
 "metadata": {
  "kernelspec": {
   "display_name": "digit-classifier",
   "language": "python",
   "name": "python3"
  },
  "language_info": {
   "codemirror_mode": {
    "name": "ipython",
    "version": 3
   },
   "file_extension": ".py",
   "mimetype": "text/x-python",
   "name": "python",
   "nbconvert_exporter": "python",
   "pygments_lexer": "ipython3",
   "version": "3.8.19"
  }
 },
 "nbformat": 4,
 "nbformat_minor": 2
}
